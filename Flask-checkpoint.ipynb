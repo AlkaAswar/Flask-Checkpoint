{
 "cells": [
  {
   "cell_type": "code",
   "execution_count": null,
   "id": "9986f594",
   "metadata": {},
   "outputs": [],
   "source": [
    "pip install gevent"
   ]
  },
  {
   "cell_type": "code",
   "execution_count": null,
   "id": "c7583203",
   "metadata": {},
   "outputs": [],
   "source": [
    "pip install virtualenv"
   ]
  },
  {
   "cell_type": "code",
   "execution_count": null,
   "id": "5a032c75",
   "metadata": {},
   "outputs": [
    {
     "name": "stdout",
     "output_type": "stream",
     "text": [
      " * Serving Flask app \"__main__\" (lazy loading)\n",
      " * Environment: production\n",
      "\u001b[31m   WARNING: This is a development server. Do not use it in a production deployment.\u001b[0m\n",
      "\u001b[2m   Use a production WSGI server instead.\u001b[0m\n",
      " * Debug mode: off\n"
     ]
    },
    {
     "name": "stderr",
     "output_type": "stream",
     "text": [
      " * Running on http://127.0.0.1:5000/ (Press CTRL+C to quit)\n"
     ]
    }
   ],
   "source": [
    "import flask\n",
    " \n",
    "app = flask.Flask(__name__)\n",
    " \n",
    "@app.route('/')\n",
    "def index():\n",
    "    return \"Hello worldd!\"\n",
    " \n",
    "if(__name__ == \"__main__\"):\n",
    "    app.run()"
   ]
  },
  {
   "cell_type": "code",
   "execution_count": null,
   "id": "40b47311",
   "metadata": {},
   "outputs": [
    {
     "name": "stdout",
     "output_type": "stream",
     "text": [
      " * Serving Flask app \"__main__\" (lazy loading)\n",
      " * Environment: production\n",
      "\u001b[31m   WARNING: This is a development server. Do not use it in a production deployment.\u001b[0m\n",
      "\u001b[2m   Use a production WSGI server instead.\u001b[0m\n",
      " * Debug mode: off\n"
     ]
    },
    {
     "name": "stderr",
     "output_type": "stream",
     "text": [
      " * Running on http://127.0.0.1:5000/ (Press CTRL+C to quit)\n"
     ]
    }
   ],
   "source": [
    "import flask\n",
    " \n",
    "app = flask.Flask(__name__)\n",
    " \n",
    "@app.route('/')\n",
    "@app.route('/home')\n",
    "def home():\n",
    "    return \"This is my Home page\"\n",
    "\n",
    "@app.route('/html')\n",
    "def html():\n",
    "    return \"hello html\"\n",
    " \n",
    "if __name__ == \"__main__\":\n",
    "    app.run()"
   ]
  },
  {
   "cell_type": "code",
   "execution_count": null,
   "id": "edffaecd",
   "metadata": {},
   "outputs": [],
   "source": [
    "import flask, render_template\n",
    " \n",
    "app = flask.Flask(__name__)\n",
    " \n",
    "@app.route('/home')\n",
    "def home():\n",
    "    return \"Hello world!\"\n",
    "\n",
    "@app.route('/html')\n",
    "def html():\n",
    "    return \"Hello worldd!\"\n",
    " \n",
    "if(__name__ == \"__main__\"):\n",
    "    app.run()"
   ]
  }
 ],
 "metadata": {
  "kernelspec": {
   "display_name": "Python 3 (ipykernel)",
   "language": "python",
   "name": "python3"
  },
  "language_info": {
   "codemirror_mode": {
    "name": "ipython",
    "version": 3
   },
   "file_extension": ".py",
   "mimetype": "text/x-python",
   "name": "python",
   "nbconvert_exporter": "python",
   "pygments_lexer": "ipython3",
   "version": "3.9.7"
  }
 },
 "nbformat": 4,
 "nbformat_minor": 5
}
